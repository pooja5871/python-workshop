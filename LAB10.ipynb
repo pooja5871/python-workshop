{
 "cells": [
  {
   "cell_type": "markdown",
   "metadata": {},
   "source": [
    "## KAJOL THAKUR\n",
    "## 2K18CSUN01065"
   ]
  },
  {
   "cell_type": "markdown",
   "metadata": {},
   "source": [
    "## PYTHON LAB-10"
   ]
  },
  {
   "cell_type": "markdown",
   "metadata": {},
   "source": [
    "## Q1:-Write a Python program that has a class Animal with a method legs(). Create two subclasses Tiger and Dog, access the method leg explicitly with class Dog and implicitly with the class Tiger."
   ]
  },
  {
   "cell_type": "code",
   "execution_count": 20,
   "metadata": {},
   "outputs": [
    {
     "name": "stdout",
     "output_type": "stream",
     "text": [
      "Animals have four legs\n",
      "Animals have four legs\n"
     ]
    }
   ],
   "source": [
    "\n",
    " class animal:\n",
    "     def legs(self):\n",
    "         print(\"Animals have four legs\")\n",
    "\n",
    " class tiger(animal):\n",
    "     pass\n",
    "\n",
    " class dog(animal):\n",
    "     animal().legs()\n",
    "\n",
    " tiger().legs()\n",
    "\n"
   ]
  },
  {
   "cell_type": "markdown",
   "metadata": {},
   "source": [
    "## Q2:- Write a Python program to create a class Employee.Define two subclasses:Engineer and Manager.Every class should have method named printDesignation() that prints Engineer for Engineer class and Manager for Manager Class.\n"
   ]
  },
  {
   "cell_type": "code",
   "execution_count": 38,
   "metadata": {},
   "outputs": [
    {
     "name": "stdout",
     "output_type": "stream",
     "text": [
      "I'm a employee\n",
      "None\n",
      "I'm a Manager\n",
      "None\n",
      "I'm a Engineer\n",
      "None\n"
     ]
    }
   ],
   "source": [
    "\n",
    " class Employee():\n",
    "     name = \"employee\"\n",
    "     def printdesignation(self):\n",
    "         print(\"I'm a\",self.name)\n",
    "\n",
    " class Engineer():\n",
    "     name = \"Engineer\"\n",
    "\n",
    "     def printdesignation(self):\n",
    "         print(\"I'm a\",self.name)\n",
    "\n",
    " class Manager():\n",
    "     name = \"Manager\"\n",
    "\n",
    "     def printdesignation(self):\n",
    "         print(\"I'm a\",self.name)\n",
    "\n",
    " com_1 = Employee()\n",
    " print(com_1.printdesignation())\n",
    "\n",
    " com_2 =Manager()\n",
    " print(com_2.printdesignation())\n",
    "\n",
    " com_3 = Engineer()\n",
    " print(com_3.printdesignation())"
   ]
  },
  {
   "cell_type": "markdown",
   "metadata": {},
   "source": [
    "## Q3-Write a Python program to demonstrate classes and their attributes."
   ]
  },
  {
   "cell_type": "code",
   "execution_count": 42,
   "metadata": {},
   "outputs": [
    {
     "name": "stdout",
     "output_type": "stream",
     "text": [
      "10\n",
      "<function MyClass.func at 0x00000203A83BB678>\n"
     ]
    },
    {
     "ename": "AttributeError",
     "evalue": "type object 'MyClass' has no attribute '_doc_'",
     "output_type": "error",
     "traceback": [
      "\u001b[1;31m---------------------------------------------------------------------------\u001b[0m",
      "\u001b[1;31mAttributeError\u001b[0m                            Traceback (most recent call last)",
      "\u001b[1;32m<ipython-input-42-fe3c6adbd7dc>\u001b[0m in \u001b[0;36m<module>\u001b[1;34m\u001b[0m\n\u001b[0;32m      6\u001b[0m \u001b[0mprint\u001b[0m\u001b[1;33m(\u001b[0m\u001b[0mMyClass\u001b[0m\u001b[1;33m.\u001b[0m\u001b[0ma\u001b[0m\u001b[1;33m)\u001b[0m\u001b[1;33m\u001b[0m\u001b[1;33m\u001b[0m\u001b[0m\n\u001b[0;32m      7\u001b[0m \u001b[0mprint\u001b[0m\u001b[1;33m(\u001b[0m\u001b[0mMyClass\u001b[0m\u001b[1;33m.\u001b[0m\u001b[0mfunc\u001b[0m\u001b[1;33m)\u001b[0m\u001b[1;33m\u001b[0m\u001b[1;33m\u001b[0m\u001b[0m\n\u001b[1;32m----> 8\u001b[1;33m \u001b[0mprint\u001b[0m\u001b[1;33m(\u001b[0m\u001b[0mMyClass\u001b[0m\u001b[1;33m.\u001b[0m\u001b[0m_doc_\u001b[0m\u001b[1;33m)\u001b[0m\u001b[1;33m\u001b[0m\u001b[1;33m\u001b[0m\u001b[0m\n\u001b[0m",
      "\u001b[1;31mAttributeError\u001b[0m: type object 'MyClass' has no attribute '_doc_'"
     ]
    }
   ],
   "source": [
    "class MyClass:\n",
    "    \"This is my second class\"\n",
    "    a = 10\n",
    "    def func(self):\n",
    "        print('Hello')\n",
    "print(MyClass.a)\n",
    "print(MyClass.func)\n",
    "print(MyClass._doc_)\n"
   ]
  },
  {
   "cell_type": "markdown",
   "metadata": {},
   "source": [
    "## Q4:- Write a Python program to demonstrate Inheritance and method overriding."
   ]
  },
  {
   "cell_type": "code",
   "execution_count": 21,
   "metadata": {},
   "outputs": [
    {
     "name": "stdout",
     "output_type": "stream",
     "text": [
      " child statment \n",
      "Parent 2 statment \n"
     ]
    }
   ],
   "source": [
    " class Parent1():\n",
    "\n",
    "     def show(self):\n",
    "         print(\"Parent 1 statement \")\n",
    "\n",
    " class Parent2():\n",
    "\n",
    "     def display(self):\n",
    "         print(\"Parent 2 statment \")\n",
    "\n",
    " class Child(Parent1, Parent2):\n",
    "\n",
    "     def show(self):\n",
    "         print(\" child statment \")\n",
    "\n",
    "\n",
    " obj = Child()\n",
    "\n",
    " obj.show()\n",
    " obj.display()\n"
   ]
  },
  {
   "cell_type": "markdown",
   "metadata": {},
   "source": [
    "## Q-5 Write a Python program to demonstrate multiple Inheritance.\n"
   ]
  },
  {
   "cell_type": "code",
   "execution_count": 35,
   "metadata": {},
   "outputs": [
    {
     "name": "stdout",
     "output_type": "stream",
     "text": [
      "In Class4\n",
      "In Class2\n",
      "In Class3\n",
      "In Class1\n"
     ]
    }
   ],
   "source": [
    "class Class1: \n",
    "    def m(self): \n",
    "        print(\"In Class1\")  \n",
    "        \n",
    "class Class2(Class1): \n",
    "    def m(self): \n",
    "        print(\"In Class2\") \n",
    "  \n",
    "class Class3(Class1): \n",
    "    def m(self): \n",
    "         print(\"In Class3\")      \n",
    "      \n",
    "class Class4(Class2, Class3): \n",
    "    def m(self): \n",
    "        print(\"In Class4\")    \n",
    "  \n",
    "obj = Class4() \n",
    "obj.m() \n",
    "  \n",
    "Class2.m(obj) \n",
    "Class3.m(obj) \n",
    "Class1.m(obj) \n",
    "\n"
   ]
  },
  {
   "cell_type": "code",
   "execution_count": null,
   "metadata": {},
   "outputs": [],
   "source": []
  }
 ],
 "metadata": {
  "kernelspec": {
   "display_name": "Python 3",
   "language": "python",
   "name": "python3"
  },
  "language_info": {
   "codemirror_mode": {
    "name": "ipython",
    "version": 3
   },
   "file_extension": ".py",
   "mimetype": "text/x-python",
   "name": "python",
   "nbconvert_exporter": "python",
   "pygments_lexer": "ipython3",
   "version": "3.7.4"
  }
 },
 "nbformat": 4,
 "nbformat_minor": 2
}
