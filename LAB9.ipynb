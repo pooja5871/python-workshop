{
 "cells": [
  {
   "cell_type": "markdown",
   "metadata": {},
   "source": [
    "## KAJOL THAKUR\n",
    "## 2K18CSUN01065"
   ]
  },
  {
   "cell_type": "markdown",
   "metadata": {},
   "source": [
    "## PYTHON LAB-9"
   ]
  },
  {
   "cell_type": "markdown",
   "metadata": {},
   "source": [
    "## 1.Write a Python program that create a class tringle and define two methods, create_triangle() and print_sides()."
   ]
  },
  {
   "cell_type": "code",
   "execution_count": 2,
   "metadata": {},
   "outputs": [
    {
     "name": "stdout",
     "output_type": "stream",
     "text": [
      "Triangle is created\n",
      "None\n",
      "Sides are 2 and 3\n",
      "None\n"
     ]
    }
   ],
   "source": [
    "class Triangle:\n",
    "    a=3\n",
    "    b=4\n",
    "    def create_triangle():\n",
    "        return print(\"Triangle is created\")\n",
    "        \n",
    "    def print_sides(a,b):\n",
    "        return print(\"Sides are\",a,\"and\",b)\n",
    "        \n",
    "a=2\n",
    "b=3\n",
    "print(Triangle.create_triangle())\n",
    "\n",
    "print(Triangle.print_sides(a,b))\n",
    "    \n"
   ]
  },
  {
   "cell_type": "markdown",
   "metadata": {},
   "source": [
    "## 2.. Write a Python program to create a class with two methods inputstr() and printstr()."
   ]
  },
  {
   "cell_type": "code",
   "execution_count": 5,
   "metadata": {},
   "outputs": [
    {
     "name": "stdout",
     "output_type": "stream",
     "text": [
      "FTYFYT\n",
      "FTYFYT\n"
     ]
    }
   ],
   "source": [
    "class IOString():\n",
    "    def __init__(self):\n",
    "        self.str1 = \"\"\n",
    "\n",
    "    def get_String(self):\n",
    "        self.str1 = input()\n",
    "\n",
    "    def print_String(self):\n",
    "        print(self.str1.upper())\n",
    "\n",
    "str1 = IOString()\n",
    "str1.get_String()\n",
    "str1.print_String()"
   ]
  },
  {
   "cell_type": "markdown",
   "metadata": {},
   "source": [
    "## 3.. Write a Python program to create a class Rectangle that takes the parameter length and width. The class should also contain a method for computing its perimeter."
   ]
  },
  {
   "cell_type": "code",
   "execution_count": 5,
   "metadata": {},
   "outputs": [
    {
     "name": "stdout",
     "output_type": "stream",
     "text": [
      "Enter length of rectangle: 3\n",
      "Enter width of rectangle: 3\n",
      "perimeter of rectangle: 12\n"
     ]
    }
   ],
   "source": [
    "\n",
    "class Rectangle:\n",
    "    def __init__(self, length,width):\n",
    "        self.length = length\n",
    "        self.width = width\n",
    " \n",
    "    def parameter(self):\n",
    "        return  2*(self.length+self.width)\n",
    " \n",
    " \n",
    "a = int(input(\"Enter length of rectangle: \"))\n",
    "b = int(input(\"Enter width of rectangle: \"))\n",
    "obj = Rectangle(a, b)\n",
    "print(\"perimeter of rectangle:\", obj.parameter())"
   ]
  },
  {
   "cell_type": "markdown",
   "metadata": {},
   "source": [
    "## 4..  Write a Python program to create a class Circle  that takes the parameter radius. The class should also contain two methods for computing its area & perimeter respectively."
   ]
  },
  {
   "cell_type": "code",
   "execution_count": 4,
   "metadata": {},
   "outputs": [
    {
     "name": "stdout",
     "output_type": "stream",
     "text": [
      "50.24\n",
      "25.12\n"
     ]
    }
   ],
   "source": [
    "class Circle():\n",
    "    def __init__(self, r):\n",
    "        self.radius = r\n",
    "\n",
    "    def area(self):\n",
    "        return self.radius**2*3.14\n",
    "    \n",
    "    def perimeter(self):\n",
    "        return 2*self.radius*3.14\n",
    "\n",
    "NewCircle = Circle(4)\n",
    "print(NewCircle.area())\n",
    "print(NewCircle.perimeter())"
   ]
  },
  {
   "cell_type": "markdown",
   "metadata": {},
   "source": [
    "## 5.. Write a Python program to demonstrate multiple Inheritance."
   ]
  },
  {
   "cell_type": "code",
   "execution_count": 1,
   "metadata": {},
   "outputs": [
    {
     "name": "stdout",
     "output_type": "stream",
     "text": [
      "In Class2\n"
     ]
    }
   ],
   "source": [
    "class Class1: \n",
    "    def m(self): \n",
    "        print(\"In Class1\") \n",
    "\n",
    "class Class2(Class1): \n",
    "    def m(self): \n",
    "        print(\"In Class2\") \n",
    "\n",
    "class Class3(Class1): \n",
    "    def m(self): \n",
    "        print(\"In Class3\") \n",
    "\n",
    "class Class4(Class2, Class3): \n",
    "    pass\n",
    "\n",
    "obj = Class4() \n",
    "obj.m()"
   ]
  },
  {
   "cell_type": "code",
   "execution_count": null,
   "metadata": {},
   "outputs": [],
   "source": []
  }
 ],
 "metadata": {
  "kernelspec": {
   "display_name": "Python 3",
   "language": "python",
   "name": "python3"
  },
  "language_info": {
   "codemirror_mode": {
    "name": "ipython",
    "version": 3
   },
   "file_extension": ".py",
   "mimetype": "text/x-python",
   "name": "python",
   "nbconvert_exporter": "python",
   "pygments_lexer": "ipython3",
   "version": "3.7.4"
  }
 },
 "nbformat": 4,
 "nbformat_minor": 2
}
