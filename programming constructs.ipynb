{
 "cells": [
  {
   "cell_type": "code",
   "execution_count": 2,
   "metadata": {},
   "outputs": [
    {
     "name": "stdout",
     "output_type": "stream",
     "text": [
      "Enter a number: 3\n",
      "3 is Odd number\n"
     ]
    }
   ],
   "source": [
    "1.\n",
    "num = int(input(\"Enter a number: \"))  \n",
    "if (num % 2) == 0:  \n",
    "   print(\"{0} is Even number\".format(num))  \n",
    "else:  \n",
    "   print(\"{0} is Odd number\".format(num))"
   ]
  },
  {
   "cell_type": "code",
   "execution_count": 7,
   "metadata": {},
   "outputs": [
    {
     "name": "stdout",
     "output_type": "stream",
     "text": [
      "Enter year to be checked:2019\n",
      "The year isn't a leap year\n"
     ]
    }
   ],
   "source": [
    "2.\n",
    "year=int(input(\"Enter year to be checked:\"))\n",
    "if(year%4==0 and year%100!=0 or year%400==0):\n",
    "    print(\"The year is a leap year\")\n",
    "else:\n",
    "    print(\"The year isn't a leap year\")"
   ]
  },
  {
   "cell_type": "code",
   "execution_count": 3,
   "metadata": {},
   "outputs": [
    {
     "name": "stdout",
     "output_type": "stream",
     "text": [
      "Input a letter of the alphabet: a\n",
      "a is a vowel.\n"
     ]
    }
   ],
   "source": [
    "3.\n",
    "l = input(\"Input a letter of the alphabet: \")\n",
    "\n",
    "if l in ('a', 'e', 'i', 'o', 'u'):\n",
    "\tprint(\"%s is a vowel.\" % l)\n",
    "elif l == 'y':\n",
    "\tprint(\"Sometimes letter y stand for vowel, sometimes stand for consonant.\")\n",
    "else:\n",
    "\tprint(\"%s is a consonant.\" % l) "
   ]
  },
  {
   "cell_type": "code",
   "execution_count": 4,
   "metadata": {},
   "outputs": [
    {
     "name": "stdout",
     "output_type": "stream",
     "text": [
      "Enter your first number:5\n",
      "Enter your second number: 2\n",
      "2 is smallest\n"
     ]
    }
   ],
   "source": [
    "4.\n",
    "num1=int(input(\"Enter your first number:\"))\n",
    "num2=int(input(\"Enter your second number: \"))\n",
    "if(num1<num2):\n",
    "    print(\"{} is smallest\".format(num1))\n",
    "elif(num2<num1):\n",
    "    print(\"{} is smallest\".format(num2))\n",
    "else:\n",
    "    print(\"{} and {} are equal\".format(num1,num2))\n",
    "    "
   ]
  },
  {
   "cell_type": "code",
   "execution_count": 5,
   "metadata": {},
   "outputs": [
    {
     "name": "stdout",
     "output_type": "stream",
     "text": [
      "Enter a Number: 65\n",
      "Factorial of 65 is:  8247650592082470666723170306785496252186258551345437492922123134388955774976000000000000000\n"
     ]
    }
   ],
   "source": [
    "5.\n",
    "def factorial(num):\n",
    "    \"\"\"This is a recursive function that calls\n",
    "   itself to find the factorial of given number\"\"\"\n",
    "    if num == 1:\n",
    "        return num\n",
    "    else:\n",
    "        return num * factorial(num - 1)\n",
    "\n",
    "num = int(input(\"Enter a Number: \"))\n",
    "if num < 0:\n",
    "    print(\"Factorial cannot be found for negative numbers\")\n",
    "elif num == 0:\n",
    "    print(\"Factorial of 0 is 1\")\n",
    "else:\n",
    "    print(\"Factorial of\", num, \"is: \", factorial(num))\n"
   ]
  },
  {
   "cell_type": "code",
   "execution_count": 8,
   "metadata": {},
   "outputs": [
    {
     "name": "stdout",
     "output_type": "stream",
     "text": [
      "      * \r\n",
      "     * * \r\n",
      "    * * * \r\n",
      "   * * * * \r\n"
     ]
    }
   ],
   "source": [
    "6.\n",
    "def triangle(n): \n",
    "      \n",
    "    k = 2*n - 2\n",
    "   \n",
    "    for i in range(0, n): \n",
    "\n",
    "        for j in range(0, k): \n",
    "            print(end=\" \")\n",
    "        k = k - 1\n",
    "      \n",
    "        for j in range(0, i+1): \n",
    "          \n",
    "            print(\"* \", end=\"\") \n",
    "      \n",
    "        print(\"\\r\") \n",
    "  \n",
    "n = 4\n",
    "triangle(n) "
   ]
  },
  {
   "cell_type": "code",
   "execution_count": 9,
   "metadata": {},
   "outputs": [
    {
     "name": "stdout",
     "output_type": "stream",
     "text": [
      "Enter any number: 34\n",
      "34 is not a prime number\n"
     ]
    }
   ],
   "source": [
    "8.\n",
    "number = int(input(\"Enter any number: \"))\n",
    "\n",
    "if number > 1:\n",
    "    for i in range(2, number):\n",
    "        if (number % i) == 0:\n",
    "            print(number, \"is not a prime number\")\n",
    "            break\n",
    "    else:\n",
    "        print(number, \"is a prime number\")\n",
    "else:\n",
    "    print(number, \"is not a prime number\")\n",
    "\n"
   ]
  },
  {
   "cell_type": "code",
   "execution_count": 10,
   "metadata": {},
   "outputs": [
    {
     "name": "stdout",
     "output_type": "stream",
     "text": [
      "Select operation.\n",
      "1.Add\n",
      "2.Subtract\n",
      "3.Multiply\n",
      "4.Divide\n",
      "Enter choice(1/2/3/4): 3\n",
      "Enter first number: 23\n",
      "Enter second number: 56\n",
      "23.0 * 56.0 = 1288.0\n"
     ]
    }
   ],
   "source": [
    "9.\n",
    "def add(x, y):\n",
    "   return x + y\n",
    "# This function subtracts two numbers \n",
    "def subtract(x, y):\n",
    "   return x - y\n",
    "# This function multiplies two numbers\n",
    "def multiply(x, y):\n",
    "   return x * y\n",
    "# This function divides two numbers\n",
    "def divide(x, y):\n",
    "   return x / y\n",
    "print(\"Select operation.\")\n",
    "print(\"1.Add\")\n",
    "print(\"2.Subtract\")\n",
    "print(\"3.Multiply\")\n",
    "print(\"4.Divide\")\n",
    "# Take input from the user \n",
    "choice = input(\"Enter choice(1/2/3/4): \")\n",
    "num1 = float(input(\"Enter first number: \"))\n",
    "num2 = float(input(\"Enter second number: \"))\n",
    "if choice == '1':\n",
    "   print(num1,\"+\",num2,\"=\", add(num1,num2))\n",
    "elif choice == '2':\n",
    "   print(num1,\"-\",num2,\"=\", subtract(num1,num2))\n",
    "elif choice == '3':\n",
    "   print(num1,\"*\",num2,\"=\", multiply(num1,num2))\n",
    "elif choice == '4':\n",
    "   print(num1,\"/\",num2,\"=\", divide(num1,num2))\n",
    "else:\n",
    "   print(\"Invalid input\")\n"
   ]
  },
  {
   "cell_type": "code",
   "execution_count": null,
   "metadata": {},
   "outputs": [],
   "source": []
  }
 ],
 "metadata": {
  "kernelspec": {
   "display_name": "Python 3",
   "language": "python",
   "name": "python3"
  },
  "language_info": {
   "codemirror_mode": {
    "name": "ipython",
    "version": 3
   },
   "file_extension": ".py",
   "mimetype": "text/x-python",
   "name": "python",
   "nbconvert_exporter": "python",
   "pygments_lexer": "ipython3",
   "version": "3.7.1"
  }
 },
 "nbformat": 4,
 "nbformat_minor": 2
}
