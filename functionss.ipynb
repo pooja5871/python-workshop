{
 "cells": [
  {
   "cell_type": "markdown",
   "metadata": {},
   "source": [
    "## lab-7(function)"
   ]
  },
  {
   "cell_type": "markdown",
   "metadata": {},
   "source": [
    "## Q1. Write a program to multiply two numbers using functions."
   ]
  },
  {
   "cell_type": "code",
   "execution_count": 5,
   "metadata": {},
   "outputs": [
    {
     "name": "stdout",
     "output_type": "stream",
     "text": [
      "enter 1st value:12\n",
      "enter 2nd value:32\n"
     ]
    },
    {
     "data": {
      "text/plain": [
       "384"
      ]
     },
     "execution_count": 5,
     "metadata": {},
     "output_type": "execute_result"
    }
   ],
   "source": [
    "def multiply(a1,b1):\n",
    "    c=a1*b1\n",
    "    return(c)\n",
    "a=int(input(\"enter 1st value:\"))\n",
    "b=int(input(\"enter 2nd value:\"))\n",
    "c=multiply(a,b)\n",
    "c"
   ]
  },
  {
   "cell_type": "markdown",
   "metadata": {},
   "source": [
    "## Q2. Write a program to add two numbers using functions.\n"
   ]
  },
  {
   "cell_type": "code",
   "execution_count": 1,
   "metadata": {},
   "outputs": [
    {
     "name": "stdout",
     "output_type": "stream",
     "text": [
      "input the number one: 4\n",
      "input the number one :7\n",
      "The sum is 11\n"
     ]
    }
   ],
   "source": [
    "def add_num(a,b):\n",
    "    sum=a+b;\n",
    "    return sum; \n",
    "num1=int(input(\"input the number one: \"))\n",
    "num2=int(input(\"input the number one :\"))\n",
    "print(\"The sum is\",add_num(num1,num2))"
   ]
  },
  {
   "cell_type": "markdown",
   "metadata": {},
   "source": [
    "## Q3. Calculate factorial of a number using function."
   ]
  },
  {
   "cell_type": "code",
   "execution_count": 2,
   "metadata": {},
   "outputs": [
    {
     "name": "stdout",
     "output_type": "stream",
     "text": [
      "input a number to compute the factorial:5\n",
      "120\n"
     ]
    }
   ],
   "source": [
    "def factorial (n):\n",
    "    if n==0:\n",
    "        return 1\n",
    "    else:\n",
    "            return n * factorial(n-1)\n",
    "n=int(input(\"input a number to compute the factorial:\"))\n",
    "print(factorial(n))"
   ]
  },
  {
   "cell_type": "markdown",
   "metadata": {},
   "source": [
    "## Q4. Create sequence of Fibonacci using function."
   ]
  },
  {
   "cell_type": "code",
   "execution_count": 1,
   "metadata": {},
   "outputs": [
    {
     "name": "stdout",
     "output_type": "stream",
     "text": [
      "How many terms? 13\n",
      "Fibonacci sequence:\n",
      "0\n",
      "1\n",
      "1\n",
      "2\n",
      "3\n",
      "5\n",
      "8\n",
      "13\n",
      "21\n",
      "34\n",
      "55\n",
      "89\n",
      "144\n"
     ]
    }
   ],
   "source": [
    "def fab():\n",
    "    nterms = int(input(\"How many terms? \"))\n",
    "    n1, n2 = 0, 1\n",
    "    count = 0\n",
    "    if nterms <= 0:\n",
    "       print(\"Please enter a positive integer\")\n",
    "    elif nterms == 1:\n",
    "       print(\"Fibonacci sequence upto\",nterms,\":\")\n",
    "       print(n1)\n",
    "    else:\n",
    "       print(\"Fibonacci sequence:\")\n",
    "       while count < nterms:\n",
    "           print(n1)\n",
    "           nth = n1 + n2\n",
    "           n1 = n2\n",
    "           n2 = nth\n",
    "           count += 1\n",
    "fab()"
   ]
  },
  {
   "cell_type": "markdown",
   "metadata": {},
   "source": [
    "## Q5. Write a program to swapping of two numbers using functions.\n"
   ]
  },
  {
   "cell_type": "code",
   "execution_count": 10,
   "metadata": {},
   "outputs": [
    {
     "name": "stdout",
     "output_type": "stream",
     "text": [
      "please enter the first value:24\n",
      "please enter the second value:96\n",
      "before swapping two number:num1=24.0 and num2=96.0\n",
      "after swapping two number:num1=96.0 and num2=24.0\n"
     ]
    }
   ],
   "source": [
    "def swap_numbers(a,b):\n",
    "    temp=a\n",
    "    a=b\n",
    "    b=temp\n",
    "    \n",
    "    print(\"after swapping two number:num1={0} and num2={1}\".format(a,b))\n",
    "\n",
    "num1=float(input(\"please enter the first value:\"))\n",
    "num2=float(input(\"please enter the second value:\"))\n",
    "print(\"before swapping two number:num1={0} and num2={1}\".format(num1,num2))\n",
    "swap_numbers(num1,num2)"
   ]
  },
  {
   "cell_type": "markdown",
   "metadata": {},
   "source": [
    "## Q6. Write a function to find the HCF of some given numbers."
   ]
  },
  {
   "cell_type": "code",
   "execution_count": 2,
   "metadata": {},
   "outputs": [
    {
     "name": "stdout",
     "output_type": "stream",
     "text": [
      "The H.C.F. is 6\n"
     ]
    }
   ],
   "source": [
    "\n",
    "def chcf(x, y):\n",
    "    if x > y:\n",
    "        smaller = y\n",
    "    else:\n",
    "        smaller = x\n",
    "    for i in range(1, smaller+1):\n",
    "        if((x % i == 0) and (y % i == 0)):\n",
    "            hcf = i \n",
    "    return hcf\n",
    "num1 = 54 \n",
    "num2 = 24\n",
    "print(\"The H.C.F. is\", chcf(num1, num2))"
   ]
  },
  {
   "cell_type": "markdown",
   "metadata": {},
   "source": [
    "## Q7. Write a function to find the ASCII value of the character."
   ]
  },
  {
   "cell_type": "code",
   "execution_count": 6,
   "metadata": {},
   "outputs": [
    {
     "name": "stdout",
     "output_type": "stream",
     "text": [
      "Enter the characterc\n",
      "The ASCII value of 'c' is 99\n"
     ]
    }
   ],
   "source": [
    "\n",
    "c = input(\"Enter the character\")\n",
    "print(\"The ASCII value of '\" + c + \"' is\", ord(c))"
   ]
  },
  {
   "cell_type": "markdown",
   "metadata": {},
   "source": [
    "##  Q8.Write a program that demonstrates the ( built in function) Date &amp; Time functions.\n"
   ]
  },
  {
   "cell_type": "code",
   "execution_count": 4,
   "metadata": {},
   "outputs": [
    {
     "name": "stdout",
     "output_type": "stream",
     "text": [
      "Present date is : 2020-03-30\n",
      "<module 'time' (built-in)>\n",
      "Local time: Thu Dec 27 21:19:29 2018\n"
     ]
    }
   ],
   "source": [
    "\n",
    "import datetime \n",
    "import time\n",
    "from datetime import date  \n",
    "print (\"Present date is : \",end=\"\") \n",
    "print (date.today())\n",
    "print (time)\n",
    "seconds = 1545925769.9618232\n",
    "local_time = time.ctime(seconds)\n",
    "print(\"Local time:\", local_time)"
   ]
  },
  {
   "cell_type": "markdown",
   "metadata": {},
   "source": [
    "## Q10. Write a program that demonstrates Required arguments."
   ]
  },
  {
   "cell_type": "code",
   "execution_count": 5,
   "metadata": {},
   "outputs": [
    {
     "name": "stdout",
     "output_type": "stream",
     "text": [
      "Hello kajol, Good Morning\n",
      "Hello kashish, Good Morning\n"
     ]
    }
   ],
   "source": [
    "\n",
    "def greet(name, msg = \"Good morning!\"):\n",
    "    msg = \"Good Morning\"\n",
    "    print(\"Hello\",name + ', ' + msg)\n",
    "greet(\"kajol\")\n",
    "greet(\"kashish\")"
   ]
  },
  {
   "cell_type": "markdown",
   "metadata": {},
   "source": [
    "## Q11. Write a program that demonstrates Default arguments.\n"
   ]
  },
  {
   "cell_type": "code",
   "execution_count": 7,
   "metadata": {},
   "outputs": [
    {
     "name": "stdout",
     "output_type": "stream",
     "text": [
      "Hello riya\n",
      "Hello drishti\n",
      "Hello ashu\n",
      "Hello kajol\n"
     ]
    }
   ],
   "source": [
    "\n",
    "def greet(*names):\n",
    "   for name in names:\n",
    "       print(\"Hello\",name)\n",
    "\n",
    "greet(\"riya\",\"drishti\",\"ashu\",\"kajol\")"
   ]
  },
  {
   "cell_type": "markdown",
   "metadata": {},
   "source": [
    "## Q12. Write a program that demonstrates Variable –length arguments.\n"
   ]
  },
  {
   "cell_type": "code",
   "execution_count": 8,
   "metadata": {},
   "outputs": [
    {
     "name": "stdout",
     "output_type": "stream",
     "text": [
      "30.1\n"
     ]
    }
   ],
   "source": [
    "def sum(*args):\n",
    "    result = 0\n",
    "    for arg in args:\n",
    "        if type(arg) in (int, float):\n",
    "            result = result + arg\n",
    "    return result\n",
    "print(sum(10, 20.10, \"hello\"))"
   ]
  },
  {
   "cell_type": "code",
   "execution_count": null,
   "metadata": {},
   "outputs": [],
   "source": []
  }
 ],
 "metadata": {
  "kernelspec": {
   "display_name": "Python 3",
   "language": "python",
   "name": "python3"
  },
  "language_info": {
   "codemirror_mode": {
    "name": "ipython",
    "version": 3
   },
   "file_extension": ".py",
   "mimetype": "text/x-python",
   "name": "python",
   "nbconvert_exporter": "python",
   "pygments_lexer": "ipython3",
   "version": "3.7.4"
  }
 },
 "nbformat": 4,
 "nbformat_minor": 2
}
